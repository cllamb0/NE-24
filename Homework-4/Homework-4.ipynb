{
 "cells": [
  {
   "cell_type": "markdown",
   "metadata": {},
   "source": [
    "## Homework #4 ##"
   ]
  },
  {
   "cell_type": "markdown",
   "metadata": {},
   "source": [
    "#### Chris Lamb NE 24####"
   ]
  },
  {
   "cell_type": "markdown",
   "metadata": {},
   "source": [
    "Just as a general note for this iPython notebook for me, I'm running\n",
    "this in Python Version 3.4.5 and Anaconda Version 2.3.0 so the 'print' syntax will include '(  )' which I don't think will work on any Python Version 2.X.X"
   ]
  },
  {
   "cell_type": "code",
   "execution_count": 1,
   "metadata": {
    "collapsed": true
   },
   "outputs": [],
   "source": [
    "from math import *\n",
    "import numpy as np"
   ]
  },
  {
   "cell_type": "markdown",
   "metadata": {},
   "source": [
    "#### `Example 1:` ####\n",
    "An extended version of the conversion example in the ipython.ipynb that we\n",
    "worked on in class."
   ]
  },
  {
   "cell_type": "code",
   "execution_count": 2,
   "metadata": {
    "collapsed": true
   },
   "outputs": [],
   "source": [
    "def inches_to_meters(inches):\n",
    "    meters = inches/39.4\n",
    "    print (inches,'inches is equal to:', meters, 'meters.')\n",
    "def feet_to_meters(feet):\n",
    "    meters = (feet * 12)/39.4\n",
    "    print (feet,'feet is equal to:', meters, 'meters.')\n",
    "def meters_to_inches(meters):\n",
    "    inches = 39 * meters\n",
    "    print (meters,'meters is equal to:', inches, 'inches.')\n",
    "def meters_to_feet(meters):\n",
    "    feet = (39 * meters)/12\n",
    "    print (meters,'meters is equal to:', feet, 'feet.')"
   ]
  },
  {
   "cell_type": "code",
   "execution_count": null,
   "metadata": {
    "collapsed": true
   },
   "outputs": [],
   "source": []
  }
 ],
 "metadata": {
  "kernelspec": {
   "display_name": "Python 3",
   "language": "python",
   "name": "python3"
  },
  "language_info": {
   "codemirror_mode": {
    "name": "ipython",
    "version": 3
   },
   "file_extension": ".py",
   "mimetype": "text/x-python",
   "name": "python",
   "nbconvert_exporter": "python",
   "pygments_lexer": "ipython3",
   "version": "3.4.5"
  }
 },
 "nbformat": 4,
 "nbformat_minor": 0
}

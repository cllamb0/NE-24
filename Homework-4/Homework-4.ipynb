{
 "cells": [
  {
   "cell_type": "markdown",
   "metadata": {},
   "source": [
    "## Homework #4 ##"
   ]
  },
  {
   "cell_type": "markdown",
   "metadata": {},
   "source": [
    "#### Chris Lamb NE 24####"
   ]
  },
  {
   "cell_type": "markdown",
   "metadata": {},
   "source": [
    "Just as a general note for this iPython notebook for me, I'm running\n",
    "this in Python Version 3.4.5 and Anaconda Version 2.3.0 so the 'print' syntax will include '(  )' which I don't think will work on any Python Version 2.X.X"
   ]
  },
  {
   "cell_type": "code",
   "execution_count": 1,
   "metadata": {
    "collapsed": true
   },
   "outputs": [],
   "source": [
    "from math import *\n",
    "import numpy as np"
   ]
  },
  {
   "cell_type": "markdown",
   "metadata": {},
   "source": [
    "#### `Example 1:` ####\n",
    "An extended version of the conversion example in the ipython.ipynb that we\n",
    "worked on in class."
   ]
  },
  {
   "cell_type": "code",
   "execution_count": 2,
   "metadata": {
    "collapsed": true
   },
   "outputs": [],
   "source": [
    "def inches_to_meters(inches):\n",
    "    meters = inches/39.4\n",
    "    print (inches,'inches is equal to:', meters, 'meters.')\n",
    "def feet_to_meters(feet):\n",
    "    meters = (feet * 12)/39.4\n",
    "    print (feet,'feet is equal to:', meters, 'meters.')\n",
    "def meters_to_inches(meters):\n",
    "    inches = 39 * meters\n",
    "    print (meters,'meters is equal to:', inches, 'inches.')\n",
    "def meters_to_feet(meters):\n",
    "    feet = (39 * meters)/12\n",
    "    print (meters,'meters is equal to:', feet, 'feet.')"
   ]
  },
  {
   "cell_type": "code",
   "execution_count": 3,
   "metadata": {
    "collapsed": false
   },
   "outputs": [
    {
     "name": "stdout",
     "output_type": "stream",
     "text": [
      "120 inches is equal to: 3.0456852791878175 meters.\n"
     ]
    }
   ],
   "source": [
    "inches_to_meters(120)"
   ]
  },
  {
   "cell_type": "code",
   "execution_count": 4,
   "metadata": {
    "collapsed": false
   },
   "outputs": [
    {
     "name": "stdout",
     "output_type": "stream",
     "text": [
      "10 feet is equal to: 3.0456852791878175 meters.\n"
     ]
    }
   ],
   "source": [
    "feet_to_meters(10)"
   ]
  },
  {
   "cell_type": "code",
   "execution_count": 5,
   "metadata": {
    "collapsed": false
   },
   "outputs": [
    {
     "name": "stdout",
     "output_type": "stream",
     "text": [
      "3 meters is equal to: 117 inches.\n"
     ]
    }
   ],
   "source": [
    "meters_to_inches(3)"
   ]
  },
  {
   "cell_type": "code",
   "execution_count": 6,
   "metadata": {
    "collapsed": false
   },
   "outputs": [
    {
     "name": "stdout",
     "output_type": "stream",
     "text": [
      "3 meters is equal to: 9.75 feet.\n"
     ]
    }
   ],
   "source": [
    "meters_to_feet(3)"
   ]
  },
  {
   "cell_type": "markdown",
   "metadata": {},
   "source": [
    "I created functions instead of simple variables so that they can be called \n",
    "at any time in the future."
   ]
  },
  {
   "cell_type": "markdown",
   "metadata": {},
   "source": [
    "#### `Example 2:` ####\n",
    "Using very simple if/else to find the closest city to a given point. The city will be a 3 element list that includes, the name of the city and the x and y coordinates. And the point for the final function will be a 2 element list that includes the x and y coordinates."
   ]
  },
  {
   "cell_type": "code",
   "execution_count": 7,
   "metadata": {
    "collapsed": true
   },
   "outputs": [],
   "source": [
    "def closer_city(point, city1, city2):\n",
    "    x1, y1 = city1[1], city1[2]\n",
    "    x2, y2 = city2[1], city2[2]\n",
    "    xp, yp = point[0], point[1]\n",
    "    d1 = sqrt ((x1 - xp)**2 + (y1 - yp)**2)\n",
    "    d2 = sqrt ((x2 - xp)**2 + (y2 - yp)**2)\n",
    "    if d1 < d2:\n",
    "        print ('The closest city is:',city1[0])\n",
    "    else:\n",
    "        print ('The closest city is:',city2[0])"
   ]
  },
  {
   "cell_type": "code",
   "execution_count": 8,
   "metadata": {
    "collapsed": true
   },
   "outputs": [],
   "source": [
    "current_loc = [37.8719, 122.2585]\n",
    "new_york = ['New York', 40.7128, 74.0059]\n",
    "boston = ['Boston', 42.3601, 71.0589]"
   ]
  },
  {
   "cell_type": "code",
   "execution_count": 9,
   "metadata": {
    "collapsed": false
   },
   "outputs": [
    {
     "name": "stdout",
     "output_type": "stream",
     "text": [
      "The closest city is: New York\n"
     ]
    }
   ],
   "source": [
    "closer_city(current_loc, new_york, boston)"
   ]
  },
  {
   "cell_type": "code",
   "execution_count": 10,
   "metadata": {
    "collapsed": true
   },
   "outputs": [],
   "source": [
    "cairo = ['Cairo', 30.0444, -31.2357]\n",
    "berlin = ['Berlin', 52.5200, 13.4050]"
   ]
  },
  {
   "cell_type": "code",
   "execution_count": 11,
   "metadata": {
    "collapsed": false
   },
   "outputs": [
    {
     "name": "stdout",
     "output_type": "stream",
     "text": [
      "The closest city is: Berlin\n"
     ]
    }
   ],
   "source": [
    "closer_city(current_loc, cairo, berlin)"
   ]
  },
  {
   "cell_type": "markdown",
   "metadata": {},
   "source": [
    "#### `Example 3` ####\n",
    "Using now if/else and for loops to determine if a number is a prime number or a composite number."
   ]
  },
  {
   "cell_type": "code",
   "execution_count": 12,
   "metadata": {
    "collapsed": true
   },
   "outputs": [],
   "source": [
    "def prime_checker(n):\n",
    "    def is_prime(n):\n",
    "        if n == 1:\n",
    "            return False\n",
    "        for i in range(2, n):\n",
    "            if n % i == 0:\n",
    "                return False\n",
    "        return True\n",
    "    if is_prime(n):\n",
    "        print (n,\"is a prime number.\")\n",
    "    else:\n",
    "        print (n,\"is a composite number.\")"
   ]
  },
  {
   "cell_type": "code",
   "execution_count": 13,
   "metadata": {
    "collapsed": false
   },
   "outputs": [
    {
     "name": "stdout",
     "output_type": "stream",
     "text": [
      "13 is a prime number.\n"
     ]
    }
   ],
   "source": [
    "prime_checker(13)"
   ]
  },
  {
   "cell_type": "code",
   "execution_count": 14,
   "metadata": {
    "collapsed": false
   },
   "outputs": [
    {
     "name": "stdout",
     "output_type": "stream",
     "text": [
      "42 is a composite number.\n"
     ]
    }
   ],
   "source": [
    "prime_checker(42)"
   ]
  },
  {
   "cell_type": "code",
   "execution_count": 15,
   "metadata": {
    "collapsed": false
   },
   "outputs": [
    {
     "name": "stdout",
     "output_type": "stream",
     "text": [
      "43592 is a composite number.\n"
     ]
    }
   ],
   "source": [
    "prime_checker(43592)"
   ]
  },
  {
   "cell_type": "code",
   "execution_count": 16,
   "metadata": {
    "collapsed": false
   },
   "outputs": [
    {
     "name": "stdout",
     "output_type": "stream",
     "text": [
      "16699 is a prime number.\n"
     ]
    }
   ],
   "source": [
    "prime_checker(16699)"
   ]
  },
  {
   "cell_type": "markdown",
   "metadata": {},
   "source": [
    "Note, I started to run the number 16699 to see if the prime checker worker for larger numbers (I already knew that it was prime). It took around 8 minutes for it to initially say that it was prime, why it did that I don't entirely know but everytime I've tried running it since it has happened as quick as the others. Incase it for some reason takes a while to work on your end, [here](http://i.imgur.com/WZiit5u.png) is a link with a screenshot of the completed job. "
   ]
  },
  {
   "cell_type": "code",
   "execution_count": null,
   "metadata": {
    "collapsed": true
   },
   "outputs": [],
   "source": []
  }
 ],
 "metadata": {
  "kernelspec": {
   "display_name": "Python 3",
   "language": "python",
   "name": "python3"
  },
  "language_info": {
   "codemirror_mode": {
    "name": "ipython",
    "version": 3
   },
   "file_extension": ".py",
   "mimetype": "text/x-python",
   "name": "python",
   "nbconvert_exporter": "python",
   "pygments_lexer": "ipython3",
   "version": "3.4.5"
  }
 },
 "nbformat": 4,
 "nbformat_minor": 0
}
